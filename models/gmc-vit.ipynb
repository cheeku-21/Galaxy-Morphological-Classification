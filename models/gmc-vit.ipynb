{
 "cells": [
  {
   "cell_type": "code",
   "execution_count": 1,
   "id": "88aaca38",
   "metadata": {
    "execution": {
     "iopub.execute_input": "2025-04-19T05:11:47.708784Z",
     "iopub.status.busy": "2025-04-19T05:11:47.708221Z",
     "iopub.status.idle": "2025-04-19T05:12:14.474110Z",
     "shell.execute_reply": "2025-04-19T05:12:14.473291Z"
    },
    "executionInfo": {
     "elapsed": 28,
     "status": "ok",
     "timestamp": 1744555667224,
     "user": {
      "displayName": "Sudhanshu Shekhar",
      "userId": "15881065487274333659"
     },
     "user_tz": -330
    },
    "id": "hB7gGvfa0IIn",
    "outputId": "a8d1df95-b84d-4183-d9e8-df81c2ee26b7",
    "papermill": {
     "duration": 26.775095,
     "end_time": "2025-04-19T05:12:14.475636",
     "exception": false,
     "start_time": "2025-04-19T05:11:47.700541",
     "status": "completed"
    },
    "tags": []
   },
   "outputs": [
    {
     "name": "stderr",
     "output_type": "stream",
     "text": [
      "2025-04-19 05:12:03.961258: E external/local_xla/xla/stream_executor/cuda/cuda_fft.cc:477] Unable to register cuFFT factory: Attempting to register factory for plugin cuFFT when one has already been registered\n",
      "WARNING: All log messages before absl::InitializeLog() is called are written to STDERR\n",
      "E0000 00:00:1745039524.150679      19 cuda_dnn.cc:8310] Unable to register cuDNN factory: Attempting to register factory for plugin cuDNN when one has already been registered\n",
      "E0000 00:00:1745039524.209314      19 cuda_blas.cc:1418] Unable to register cuBLAS factory: Attempting to register factory for plugin cuBLAS when one has already been registered\n"
     ]
    }
   ],
   "source": [
    "import numpy as np\n",
    "import pandas as pd\n",
    "import matplotlib.pyplot as plt\n",
    "\n",
    "from PIL import Image\n",
    "from sklearn.model_selection import train_test_split\n",
    "from sklearn.metrics import confusion_matrix, accuracy_score, recall_score, f1_score\n",
    "import seaborn as sns\n",
    "\n",
    "import torch\n",
    "import torch.nn as nn\n",
    "from torch.utils.data import Dataset, DataLoader\n",
    "from torchvision import models, transforms, utils\n",
    "import torch.optim as optim\n",
    "from torch.optim import lr_scheduler\n",
    "\n",
    "import time\n",
    "import os\n",
    "import zipfile\n",
    "from copy import deepcopy\n",
    "\n",
    "%matplotlib inline\n",
    "\n",
    "# vision transformer\n",
    "from transformers import ViTModel, ViTConfig, ViTFeatureExtractor, ViTForImageClassification"
   ]
  },
  {
   "cell_type": "code",
   "execution_count": 2,
   "id": "d55e0cf1",
   "metadata": {
    "execution": {
     "iopub.execute_input": "2025-04-19T05:12:14.489278Z",
     "iopub.status.busy": "2025-04-19T05:12:14.488847Z",
     "iopub.status.idle": "2025-04-19T05:12:14.493136Z",
     "shell.execute_reply": "2025-04-19T05:12:14.492347Z"
    },
    "papermill": {
     "duration": 0.011955,
     "end_time": "2025-04-19T05:12:14.494224",
     "exception": false,
     "start_time": "2025-04-19T05:12:14.482269",
     "status": "completed"
    },
    "tags": []
   },
   "outputs": [
    {
     "name": "stdout",
     "output_type": "stream",
     "text": [
      "cuda:0\n"
     ]
    }
   ],
   "source": [
    "device = torch.device(\"cuda:0\" if torch.cuda.is_available() else \"cpu\")\n",
    "print(device)"
   ]
  },
  {
   "cell_type": "code",
   "execution_count": 3,
   "id": "d2a91045",
   "metadata": {
    "execution": {
     "iopub.execute_input": "2025-04-19T05:12:14.508196Z",
     "iopub.status.busy": "2025-04-19T05:12:14.507984Z",
     "iopub.status.idle": "2025-04-19T05:12:14.515893Z",
     "shell.execute_reply": "2025-04-19T05:12:14.515341Z"
    },
    "executionInfo": {
     "elapsed": 13,
     "status": "ok",
     "timestamp": 1744555650026,
     "user": {
      "displayName": "Sudhanshu Shekhar",
      "userId": "15881065487274333659"
     },
     "user_tz": -330
    },
    "id": "xaVq3LayNTdO",
    "outputId": "a921f10f-b7b4-45b5-cc39-d3136788c7bc",
    "papermill": {
     "duration": 0.015563,
     "end_time": "2025-04-19T05:12:14.516841",
     "exception": false,
     "start_time": "2025-04-19T05:12:14.501278",
     "status": "completed"
    },
    "tags": []
   },
   "outputs": [
    {
     "data": {
      "text/plain": [
       "<torch._C.Generator at 0x7dff8d30feb0>"
      ]
     },
     "execution_count": 3,
     "metadata": {},
     "output_type": "execute_result"
    }
   ],
   "source": [
    "torch.manual_seed(0)"
   ]
  },
  {
   "cell_type": "code",
   "execution_count": 4,
   "id": "67509089",
   "metadata": {
    "execution": {
     "iopub.execute_input": "2025-04-19T05:12:14.529531Z",
     "iopub.status.busy": "2025-04-19T05:12:14.529312Z",
     "iopub.status.idle": "2025-04-19T05:12:14.534804Z",
     "shell.execute_reply": "2025-04-19T05:12:14.534263Z"
    },
    "id": "Kw-QIg3w0NNZ",
    "papermill": {
     "duration": 0.012942,
     "end_time": "2025-04-19T05:12:14.535821",
     "exception": false,
     "start_time": "2025-04-19T05:12:14.522879",
     "status": "completed"
    },
    "tags": []
   },
   "outputs": [],
   "source": [
    "## Custom Galaxy Zoo 2 Dataset\n",
    "class GalaxyZooDataset(Dataset):\n",
    "    \"\"\"Galaxy Zoo Dataset\"\"\"\n",
    "\n",
    "    def __init__(self, csv_file, images_dir, transform=None):\n",
    "        \"\"\"\n",
    "        Args:\n",
    "            csv_file (string): path to the label csv\n",
    "            images_dir (string): path to the dir containing all images\n",
    "            transform (callable, optional): transform to apply\n",
    "        \"\"\"\n",
    "        self.labels_df = pd.read_csv(csv_file)\n",
    "        self.labels_df = self.labels_df[['galaxyID', 'label1']].copy()\n",
    "\n",
    "        self.images_dir = images_dir\n",
    "        self.transform = transform\n",
    "\n",
    "    def __len__(self):\n",
    "        \"\"\"\n",
    "        Returns the size of the dataset\n",
    "        \"\"\"\n",
    "        return len(self.labels_df)\n",
    "\n",
    "    def __getitem__(self, idx):\n",
    "        \"\"\"\n",
    "        Get the idx-th sample.\n",
    "\t\tOutputs the image (channel first) and the true label\n",
    "        \"\"\"\n",
    "        if torch.is_tensor(idx):\n",
    "            idx = idx.tolist()\n",
    "\n",
    "        # galaxy ID\n",
    "        galaxyid = self.labels_df.iloc[idx, 0].astype(str)\n",
    "\t\t# path of the image\n",
    "        image_path = os.path.join(self.images_dir, galaxyid + '.jpg')\n",
    "\t\t# read the image\n",
    "        image = Image.open(image_path)\n",
    "\t\t# apply transform (optional)\n",
    "        if self.transform is not None:\n",
    "            image = self.transform(image)\n",
    "\t\t# read the true label\n",
    "        label = int(self.labels_df.iloc[idx, 1])\n",
    "\n",
    "        return image, label, int(galaxyid)"
   ]
  },
  {
   "cell_type": "code",
   "execution_count": 5,
   "id": "13a24ea2",
   "metadata": {
    "execution": {
     "iopub.execute_input": "2025-04-19T05:12:14.554665Z",
     "iopub.status.busy": "2025-04-19T05:12:14.554183Z",
     "iopub.status.idle": "2025-04-19T05:12:14.560194Z",
     "shell.execute_reply": "2025-04-19T05:12:14.559345Z"
    },
    "id": "IqShZSWU0Npi",
    "papermill": {
     "duration": 0.019622,
     "end_time": "2025-04-19T05:12:14.561397",
     "exception": false,
     "start_time": "2025-04-19T05:12:14.541775",
     "status": "completed"
    },
    "tags": []
   },
   "outputs": [],
   "source": [
    "def create_data_transforms(is_for_inception=False):\n",
    "    \"\"\"\n",
    "    Create Pytorch data transforms for the GalaxyZoo datasets.\n",
    "    Args:\n",
    "        is_for_inception (bool): True for inception neural networks\n",
    "    Outputs:\n",
    "        train_transform: transform for the training data\n",
    "        test_transform: transform for the testing data\n",
    "    \"\"\"\n",
    "    if is_for_inception:\n",
    "        input_size = 299\n",
    "    else:\n",
    "        input_size = 224\n",
    "\n",
    "    # transforms for training data\n",
    "    train_transform = transforms.Compose([transforms.CenterCrop(input_size),\n",
    "                                          transforms.RandomRotation(90),\n",
    "                                          transforms.RandomHorizontalFlip(),\n",
    "                                          transforms.RandomVerticalFlip(),\n",
    "                                          transforms.RandomResizedCrop(input_size, scale=(0.8, 1.0), ratio=(0.99, 1.01)),\n",
    "                                          transforms.ToTensor(),\n",
    "                                          transforms.Normalize([0.5, 0.5, 0.5], [0.5, 0.5, 0.5])])\n",
    "\n",
    "    # transforms for validation data\n",
    "    valid_transform = transforms.Compose([transforms.CenterCrop(input_size),\n",
    "                                          transforms.ToTensor(),\n",
    "                                          transforms.Normalize([0.5, 0.5, 0.5], [0.5, 0.5, 0.5])])\n",
    "\n",
    "    # transforms for test data\n",
    "    test_transform = transforms.Compose([transforms.CenterCrop(input_size),\n",
    "                                         transforms.ToTensor(),\n",
    "                                         transforms.Normalize([0.5, 0.5, 0.5], [0.5, 0.5, 0.5])])\n",
    "\n",
    "\n",
    "    return train_transform, valid_transform, test_transform"
   ]
  },
  {
   "cell_type": "code",
   "execution_count": 6,
   "id": "a889f97a",
   "metadata": {
    "execution": {
     "iopub.execute_input": "2025-04-19T05:12:14.582277Z",
     "iopub.status.busy": "2025-04-19T05:12:14.581951Z",
     "iopub.status.idle": "2025-04-19T05:12:14.699468Z",
     "shell.execute_reply": "2025-04-19T05:12:14.698869Z"
    },
    "id": "lDNyJG4CNTCs",
    "papermill": {
     "duration": 0.130882,
     "end_time": "2025-04-19T05:12:14.700721",
     "exception": false,
     "start_time": "2025-04-19T05:12:14.569839",
     "status": "completed"
    },
    "tags": []
   },
   "outputs": [],
   "source": [
    "df_train = pd.read_csv('/kaggle/input/gmc-cleaned-data/data_train_cleaned.csv')\n",
    "df_valid = pd.read_csv('/kaggle/input/gmc-cleaned-data/data_valid_cleaned.csv')\n",
    "df_test = pd.read_csv('/kaggle/input/gmc-cleaned-data/data_test_cleaned.csv')"
   ]
  },
  {
   "cell_type": "code",
   "execution_count": 7,
   "id": "ea8da357",
   "metadata": {
    "execution": {
     "iopub.execute_input": "2025-04-19T05:12:14.714382Z",
     "iopub.status.busy": "2025-04-19T05:12:14.713783Z",
     "iopub.status.idle": "2025-04-19T05:12:14.716940Z",
     "shell.execute_reply": "2025-04-19T05:12:14.716445Z"
    },
    "id": "zOXKtrXDcX6Z",
    "papermill": {
     "duration": 0.010756,
     "end_time": "2025-04-19T05:12:14.717967",
     "exception": false,
     "start_time": "2025-04-19T05:12:14.707211",
     "status": "completed"
    },
    "tags": []
   },
   "outputs": [],
   "source": [
    "dir_image = '/kaggle/input/galaxy-zoo-2-images'"
   ]
  },
  {
   "cell_type": "code",
   "execution_count": 8,
   "id": "25a05b2c",
   "metadata": {
    "execution": {
     "iopub.execute_input": "2025-04-19T05:12:14.730964Z",
     "iopub.status.busy": "2025-04-19T05:12:14.730421Z",
     "iopub.status.idle": "2025-04-19T05:12:14.734410Z",
     "shell.execute_reply": "2025-04-19T05:12:14.733868Z"
    },
    "id": "h-F2glxDccgm",
    "papermill": {
     "duration": 0.011549,
     "end_time": "2025-04-19T05:12:14.735553",
     "exception": false,
     "start_time": "2025-04-19T05:12:14.724004",
     "status": "completed"
    },
    "tags": []
   },
   "outputs": [],
   "source": [
    "# create transforms\n",
    "train_transform, valid_transform, test_transform = create_data_transforms(is_for_inception=False)"
   ]
  },
  {
   "cell_type": "code",
   "execution_count": 9,
   "id": "cb641d1c",
   "metadata": {
    "execution": {
     "iopub.execute_input": "2025-04-19T05:12:14.748424Z",
     "iopub.status.busy": "2025-04-19T05:12:14.747969Z",
     "iopub.status.idle": "2025-04-19T05:12:14.838003Z",
     "shell.execute_reply": "2025-04-19T05:12:14.837021Z"
    },
    "executionInfo": {
     "elapsed": 143,
     "status": "ok",
     "timestamp": 1744487965633,
     "user": {
      "displayName": "Sudhanshu Shekhar",
      "userId": "15881065487274333659"
     },
     "user_tz": -330
    },
    "id": "tX-8evCxvDPP",
    "outputId": "640c91bb-c674-4a1c-cd9d-fba10f944d91",
    "papermill": {
     "duration": 0.098197,
     "end_time": "2025-04-19T05:12:14.839754",
     "exception": false,
     "start_time": "2025-04-19T05:12:14.741557",
     "status": "completed"
    },
    "tags": []
   },
   "outputs": [
    {
     "name": "stdout",
     "output_type": "stream",
     "text": [
      "**Dataloaders**\n",
      "Number of training data: 129829 (2029 batches)\n",
      "Number of validation data: 32460 (508 batches)\n",
      "Number of test data: 40572 (634 batches)\n",
      "===============================\n"
     ]
    }
   ],
   "source": [
    "\"\"\"\n",
    "Data Loader\n",
    "\"\"\"\n",
    "# the batch size\n",
    "BATCH_SIZE = 64\n",
    "\n",
    "# create transforms\n",
    "train_transform, valid_transform, test_transform = create_data_transforms(is_for_inception=False)\n",
    "\n",
    "# create datasets\n",
    "data_train = GalaxyZooDataset('/kaggle/input/gmc-cleaned-data/data_train_cleaned.csv', '/kaggle/input/galaxy-zoo-2-images/images_gz2/images', train_transform)\n",
    "data_valid = GalaxyZooDataset('/kaggle/input/gmc-cleaned-data/data_valid_cleaned.csv', '/kaggle/input/galaxy-zoo-2-images/images_gz2/images', valid_transform)\n",
    "data_test = GalaxyZooDataset('/kaggle/input/gmc-cleaned-data/data_test_cleaned.csv', '/kaggle/input/galaxy-zoo-2-images/images_gz2/images', test_transform)\n",
    "\n",
    "# dataloaders\n",
    "train_loader = DataLoader(data_train, batch_size=BATCH_SIZE, shuffle=True)\n",
    "valid_loader = DataLoader(data_valid, batch_size=BATCH_SIZE, shuffle=True)\n",
    "test_loader = DataLoader(data_test, batch_size=BATCH_SIZE, shuffle=True)\n",
    "\n",
    "# check the sizes\n",
    "print(\"**Dataloaders**\")\n",
    "print(\"Number of training data: {} ({} batches)\".format(len(data_train), len(train_loader)))\n",
    "print(\"Number of validation data: {} ({} batches)\".format(len(data_valid), len(valid_loader)))\n",
    "print(\"Number of test data: {} ({} batches)\".format(len(data_test), len(test_loader)))\n",
    "print(\"===============================\")"
   ]
  },
  {
   "cell_type": "code",
   "execution_count": 10,
   "id": "f0214331",
   "metadata": {
    "execution": {
     "iopub.execute_input": "2025-04-19T05:12:14.856914Z",
     "iopub.status.busy": "2025-04-19T05:12:14.856673Z",
     "iopub.status.idle": "2025-04-19T05:12:24.214088Z",
     "shell.execute_reply": "2025-04-19T05:12:24.213169Z"
    },
    "executionInfo": {
     "elapsed": 4449,
     "status": "ok",
     "timestamp": 1744487980207,
     "user": {
      "displayName": "Sudhanshu Shekhar",
      "userId": "15881065487274333659"
     },
     "user_tz": -330
    },
    "id": "pyM3bV4zmHRw",
    "outputId": "d665bf70-f66e-4859-a44f-f9a328ca1891",
    "papermill": {
     "duration": 9.366065,
     "end_time": "2025-04-19T05:12:24.215267",
     "exception": false,
     "start_time": "2025-04-19T05:12:14.849202",
     "status": "completed"
    },
    "tags": []
   },
   "outputs": [
    {
     "data": {
      "application/vnd.jupyter.widget-view+json": {
       "model_id": "995ed8f8a87743839b4be900b6f42847",
       "version_major": 2,
       "version_minor": 0
      },
      "text/plain": [
       "preprocessor_config.json:   0%|          | 0.00/160 [00:00<?, ?B/s]"
      ]
     },
     "metadata": {},
     "output_type": "display_data"
    },
    {
     "name": "stderr",
     "output_type": "stream",
     "text": [
      "/usr/local/lib/python3.11/dist-packages/transformers/models/vit/feature_extraction_vit.py:28: FutureWarning: The class ViTFeatureExtractor is deprecated and will be removed in version 5 of Transformers. Please use ViTImageProcessor instead.\n",
      "  warnings.warn(\n"
     ]
    },
    {
     "data": {
      "application/vnd.jupyter.widget-view+json": {
       "model_id": "f85313dc5c3b4d2cbb80c8ef51683329",
       "version_major": 2,
       "version_minor": 0
      },
      "text/plain": [
       "config.json:   0%|          | 0.00/69.7k [00:00<?, ?B/s]"
      ]
     },
     "metadata": {},
     "output_type": "display_data"
    },
    {
     "name": "stderr",
     "output_type": "stream",
     "text": [
      "Xet Storage is enabled for this repo, but the 'hf_xet' package is not installed. Falling back to regular HTTP download. For better performance, install the package with: `pip install huggingface_hub[hf_xet]` or `pip install hf_xet`\n"
     ]
    },
    {
     "data": {
      "application/vnd.jupyter.widget-view+json": {
       "model_id": "e49998d817b3412ca3ff3d025cc5b1d9",
       "version_major": 2,
       "version_minor": 0
      },
      "text/plain": [
       "model.safetensors:   0%|          | 0.00/346M [00:00<?, ?B/s]"
      ]
     },
     "metadata": {},
     "output_type": "display_data"
    },
    {
     "name": "stdout",
     "output_type": "stream",
     "text": [
      "Number of trainable parameters: 86567656\n",
      "Number of trainable parameters: 85804808\n"
     ]
    }
   ],
   "source": [
    "## hyperparameter\n",
    "LR = 5e-5\n",
    "STEP_SIZE = 5\n",
    "GAMMA = 0.1\n",
    "MAX_EPOCH = 200\n",
    "class_weights = torch.FloatTensor([1., 1., 1., 1., 1., 1., 1., 1.]).to(device)\n",
    "\n",
    "## file name\n",
    "model_name = \"gz2_hug_vit_010822B\"\n",
    "\n",
    "## Vision Transformer\n",
    "feature_extractor = ViTFeatureExtractor.from_pretrained('google/vit-base-patch16-224')\n",
    "model = ViTForImageClassification.from_pretrained('google/vit-base-patch16-224')\n",
    "\n",
    "print(\"Number of trainable parameters: {}\".format(sum(param.numel() for param in model.parameters() if param.requires_grad)))\n",
    "\n",
    "# freeze the weights\n",
    "#for param in model.parameters():\n",
    "#    param.requires_grad = False\n",
    "\n",
    "# change the last layer\n",
    "model.classifier = nn.Linear(in_features=768, out_features=8, bias=True)\n",
    "\n",
    "print(\"Number of trainable parameters: {}\".format(sum(param.numel() for param in model.parameters() if param.requires_grad)))"
   ]
  },
  {
   "cell_type": "code",
   "execution_count": 11,
   "id": "b3adfc53",
   "metadata": {
    "execution": {
     "iopub.execute_input": "2025-04-19T05:12:24.230227Z",
     "iopub.status.busy": "2025-04-19T05:12:24.229979Z",
     "iopub.status.idle": "2025-04-19T05:12:24.242492Z",
     "shell.execute_reply": "2025-04-19T05:12:24.241935Z"
    },
    "id": "z_7lA_8q0Qwi",
    "papermill": {
     "duration": 0.020939,
     "end_time": "2025-04-19T05:12:24.243569",
     "exception": false,
     "start_time": "2025-04-19T05:12:24.222630",
     "status": "completed"
    },
    "tags": []
   },
   "outputs": [],
   "source": [
    "def train_model(model, num_epochs, criterion, optimizer, scheduler, print_every=1, early_stop_epochs=10):\n",
    "    \"\"\"\n",
    "    Train the model\n",
    "    Args:\n",
    "        model: Pytorch neural model\n",
    "        num_epochs: number of epochs to train\n",
    "        criterion: the loss function object\n",
    "        optimizer: the optimizer\n",
    "        scheduler: the learning rate decay scheduler\n",
    "        print_every: print the information every X epochs\n",
    "        early_stop_epochs: early stopping if the model doesn't improve after X epochs\n",
    "    \"\"\"\n",
    "    # cache the best model\n",
    "    best_model_weights = deepcopy(model.state_dict())\n",
    "    # best train acc\n",
    "    best_train_acc = 0.0\n",
    "    # best valid acc\n",
    "    best_valid_acc = 0.0\n",
    "    # best epoch\n",
    "    best_epoch = -1\n",
    "\n",
    "    # intiate dict to records the history of loss and acc\n",
    "    history_dic = dict()\n",
    "    history_dic['train_loss'] = []\n",
    "    history_dic['train_acc'] = []\n",
    "    history_dic['valid_loss'] = []\n",
    "    history_dic['valid_acc'] = []\n",
    "    history_dic['lr'] = []\n",
    "\n",
    "    for epoch in range(num_epochs):\n",
    "        # time of start\n",
    "        epoch_start_time = time.time()\n",
    "\n",
    "        \"\"\"\n",
    "        Train\n",
    "        \"\"\"\n",
    "        model.train()\n",
    "\n",
    "         # Clear GPU cache\n",
    "        torch.cuda.empty_cache()\n",
    "\n",
    "        epoch_train_cum_loss = 0.0\n",
    "        epoch_train_cum_corrects = 0\n",
    "\n",
    "        for images, labels, _ in train_loader:\n",
    "            images = images.to(device)\n",
    "            labels = labels.long().to(device)\n",
    "\n",
    "            optimizer.zero_grad()\n",
    "\n",
    "            outputs = model(images)\n",
    "            pred_logits = outputs.logits\n",
    "            loss = criterion(pred_logits, labels)\n",
    "\n",
    "            _, pred_classes = torch.max(pred_logits.detach(), dim=1)\n",
    "            pred_classes = pred_classes.long()\n",
    "\n",
    "            epoch_train_cum_loss += loss.item() * images.size(0)\n",
    "            epoch_train_cum_corrects += torch.sum(pred_classes==labels.data).detach().to('cpu').item()\n",
    "\n",
    "            loss.backward()\n",
    "            optimizer.step()\n",
    "\n",
    "        \"\"\"\n",
    "        Eval\n",
    "        \"\"\"\n",
    "        model.eval()\n",
    "\n",
    "        epoch_valid_cum_loss = 0.0\n",
    "        epoch_valid_cum_corrects = 0\n",
    "\n",
    "        for images, labels, _ in valid_loader:\n",
    "            images = images.to(device)\n",
    "            labels = labels.long().to(device)\n",
    "\n",
    "            with torch.no_grad():\n",
    "                outputs = model(images)\n",
    "                pred_logits = outputs.logits\n",
    "                _, pred_classes = torch.max(pred_logits.detach(), dim=1)\n",
    "                loss = criterion(pred_logits, labels)\n",
    "\n",
    "                epoch_valid_cum_loss += loss.item() * images.size(0)\n",
    "                epoch_valid_cum_corrects += torch.sum(pred_classes==labels.data).detach().to('cpu').item()\n",
    "\n",
    "        ## Calculate metrics\n",
    "        train_loss = epoch_train_cum_loss / len(data_train)\n",
    "        train_acc = epoch_train_cum_corrects / len(data_train)\n",
    "        valid_loss = epoch_valid_cum_loss / len(data_valid)\n",
    "        valid_acc = epoch_valid_cum_corrects / len(data_valid)\n",
    "\n",
    "        # update history_dic\n",
    "        history_dic['train_loss'].append(train_loss)\n",
    "        history_dic['train_acc'].append(train_acc)\n",
    "        history_dic['valid_loss'].append(valid_loss)\n",
    "        history_dic['valid_acc'].append(valid_acc)\n",
    "        history_dic['lr'].append(scheduler.get_last_lr()[0])\n",
    "\n",
    "        # check if is the best acc ever\n",
    "        if valid_acc > best_valid_acc:\n",
    "            best_train_acc = train_acc\n",
    "            best_valid_acc = valid_acc\n",
    "            best_epoch = epoch + 1\n",
    "            # update the best model weights\n",
    "            best_model_weights = deepcopy(model.state_dict())\n",
    "            \n",
    "        epoch_end_time = time.time()\n",
    "        epoch_time_used = epoch_end_time - epoch_start_time\n",
    "        # convert epoch_time_used into mm:ss\n",
    "        mm = epoch_time_used // 60\n",
    "        ss = epoch_time_used % 60\n",
    "\n",
    "        ## Print metrics\n",
    "        if (epoch+1) % print_every == 0:\n",
    "\n",
    "            # if is best valid acc\n",
    "            if epoch == (best_epoch - 1):\n",
    "                print(\"Epoch {}/{}\\tTrain loss: {:.4f}\\tTrain acc: {:.4f}\\tValid loss: {:.4f}\\tValid acc: {:.4f}\\tTime: {:.0f}m {:.0f}s\\t<--\".format(\n",
    "                    epoch+1, num_epochs, train_loss, train_acc, valid_loss, valid_acc, mm, ss))\n",
    "            # not a better model\n",
    "            else:\n",
    "                print(\"Epoch {}/{}\\tTrain loss: {:.4f}\\tTrain acc: {:.4f}\\tValid loss: {:.4f}\\tValid acc: {:.4f}\\tTime: {:.0f}m {:.0f}s\".format(\n",
    "                    epoch+1, num_epochs, train_loss, train_acc, valid_loss, valid_acc, mm, ss))\n",
    "\n",
    "        ## Early stopping\n",
    "        if (epoch+1) - best_epoch >= early_stop_epochs:\n",
    "            print(\"Early stopping... (Model did not improve after {} epochs)\".format(early_stop_epochs))\n",
    "            break\n",
    "\n",
    "        scheduler.step()\n",
    "\n",
    "    # load the best weights into the model\n",
    "    model.load_state_dict(best_model_weights)\n",
    "    # print the best epoch\n",
    "    print(\"Best epoch = {}, with training accuracy = {:.4f} and validation accuracy = {:.4f}\".format(best_epoch, best_train_acc, best_valid_acc))\n",
    "\n",
    "    # return the best model\n",
    "    return model, history_dic"
   ]
  },
  {
   "cell_type": "code",
   "execution_count": 12,
   "id": "e489036d",
   "metadata": {
    "execution": {
     "iopub.execute_input": "2025-04-19T05:12:24.257123Z",
     "iopub.status.busy": "2025-04-19T05:12:24.256927Z",
     "iopub.status.idle": "2025-04-19T12:38:27.554393Z",
     "shell.execute_reply": "2025-04-19T12:38:27.553592Z"
    },
    "id": "DMKMFnZllpkj",
    "papermill": {
     "duration": 26763.305996,
     "end_time": "2025-04-19T12:38:27.555944",
     "exception": false,
     "start_time": "2025-04-19T05:12:24.249948",
     "status": "completed"
    },
    "tags": []
   },
   "outputs": [
    {
     "name": "stdout",
     "output_type": "stream",
     "text": [
      "Epoch 1/10\tTrain loss: 0.4213\tTrain acc: 0.8371\tValid loss: 0.3389\tValid acc: 0.8644\tTime: 45m 58s\t<--\n",
      "Epoch 2/10\tTrain loss: 0.3290\tTrain acc: 0.8706\tValid loss: 0.3440\tValid acc: 0.8628\tTime: 44m 25s\n",
      "Epoch 3/10\tTrain loss: 0.3079\tTrain acc: 0.8768\tValid loss: 0.3010\tValid acc: 0.8784\tTime: 44m 24s\t<--\n",
      "Epoch 4/10\tTrain loss: 0.2907\tTrain acc: 0.8830\tValid loss: 0.2793\tValid acc: 0.8900\tTime: 44m 35s\t<--\n",
      "Epoch 5/10\tTrain loss: 0.2750\tTrain acc: 0.8890\tValid loss: 0.2981\tValid acc: 0.8791\tTime: 44m 31s\n",
      "Epoch 6/10\tTrain loss: 0.2250\tTrain acc: 0.9081\tValid loss: 0.2520\tValid acc: 0.8989\tTime: 44m 28s\t<--\n",
      "Epoch 7/10\tTrain loss: 0.2128\tTrain acc: 0.9135\tValid loss: 0.2589\tValid acc: 0.8947\tTime: 44m 25s\n",
      "Epoch 8/10\tTrain loss: 0.2072\tTrain acc: 0.9156\tValid loss: 0.2527\tValid acc: 0.8989\tTime: 44m 25s\n",
      "Epoch 9/10\tTrain loss: 0.2032\tTrain acc: 0.9168\tValid loss: 0.2496\tValid acc: 0.9004\tTime: 44m 28s\t<--\n",
      "Epoch 10/10\tTrain loss: 0.1973\tTrain acc: 0.9189\tValid loss: 0.2587\tValid acc: 0.8959\tTime: 44m 24s\n",
      "Best epoch = 9, with training accuracy = 0.9168 and validation accuracy = 0.9004\n"
     ]
    }
   ],
   "source": [
    "# move to gpu\n",
    "model = model.to(device)\n",
    "\n",
    "# loss function\n",
    "criterion = nn.CrossEntropyLoss(weight=class_weights)\n",
    "\n",
    "# optimizer\n",
    "optimizer = optim.Adam(model.parameters(), lr=LR)\n",
    "\n",
    "# scheduler\n",
    "scheduler = lr_scheduler.StepLR(optimizer, step_size=STEP_SIZE, gamma=GAMMA)\n",
    "\n",
    "## train and return the best model\n",
    "model, history_dic = train_model(model, 10, criterion, optimizer, scheduler, print_every=1, early_stop_epochs=10)\n",
    "\n",
    "## Save the best weights\n",
    "torch.save(model.state_dict(), model_name + '.pth')\n",
    "# torch.save(model.state_dict(), os.path.join('drive/MyDrive', model_name + '.pth'))\n",
    "\n",
    "## Convert history to dataframe\n",
    "history_df = pd.DataFrame(history_dic)\n",
    "\n",
    "## Save the history\n",
    "history_df.to_csv(model_name + '_history.csv', index=False)"
   ]
  },
  {
   "cell_type": "code",
   "execution_count": 13,
   "id": "5f3670c6",
   "metadata": {
    "execution": {
     "iopub.execute_input": "2025-04-19T12:38:27.572164Z",
     "iopub.status.busy": "2025-04-19T12:38:27.571916Z",
     "iopub.status.idle": "2025-04-19T12:38:27.577661Z",
     "shell.execute_reply": "2025-04-19T12:38:27.576904Z"
    },
    "papermill": {
     "duration": 0.014981,
     "end_time": "2025-04-19T12:38:27.578835",
     "exception": false,
     "start_time": "2025-04-19T12:38:27.563854",
     "status": "completed"
    },
    "tags": []
   },
   "outputs": [],
   "source": [
    "def predict_model(model):\n",
    "    \"\"\"\n",
    "    Predict test data\n",
    "    \"\"\"\n",
    "    # evaluation\n",
    "    model.eval()\n",
    "\n",
    "    # empty lists for results\n",
    "    y_true = []\n",
    "    y_pred = []\n",
    "    y_label = []\n",
    "\n",
    "    for images, labels, galaxy_id in test_loader:\n",
    "        images = images.to(device)\n",
    "        labels = labels.long().to(device)\n",
    "\n",
    "        with torch.no_grad():\n",
    "            outputs = model(images)\n",
    "            pred_logits = outputs.logits\n",
    "            _, pred_classes = torch.max(pred_logits.detach(), dim=1)\n",
    "\n",
    "            y_true += torch.squeeze(labels.cpu()).tolist()\n",
    "            y_pred += torch.squeeze(pred_classes).tolist()\n",
    "            y_label += torch.squeeze(galaxy_id.cpu()).tolist()\n",
    "    \n",
    "    # create a DataFrame with columns 'GalaxyID', 'class', 'predicted labels'\n",
    "    predict_df = pd.DataFrame(data={'GalaxyID': y_label, 'class': y_true, 'pred': y_pred})\n",
    "\n",
    "    return y_true, y_pred, predict_df"
   ]
  },
  {
   "cell_type": "code",
   "execution_count": 14,
   "id": "66ab837f",
   "metadata": {
    "execution": {
     "iopub.execute_input": "2025-04-19T12:38:27.594182Z",
     "iopub.status.busy": "2025-04-19T12:38:27.593946Z",
     "iopub.status.idle": "2025-04-19T12:49:10.440407Z",
     "shell.execute_reply": "2025-04-19T12:49:10.439610Z"
    },
    "papermill": {
     "duration": 642.855642,
     "end_time": "2025-04-19T12:49:10.442015",
     "exception": false,
     "start_time": "2025-04-19T12:38:27.586373",
     "status": "completed"
    },
    "tags": []
   },
   "outputs": [],
   "source": [
    "# move to gpu\n",
    "model = model.to(device)\n",
    "\n",
    "# model evaluation\n",
    "y_true, y_pred, predict_df = predict_model(model)\n",
    "\n",
    "# save predict_df\n",
    "predict_df.to_csv(model_name + '_predictions.csv', index=False)\n",
    "# predict_df.to_csv(os.path.join('drive/MyDrive', model_name + '_predictions.csv'), index=False)"
   ]
  },
  {
   "cell_type": "code",
   "execution_count": 15,
   "id": "b69e5f68",
   "metadata": {
    "execution": {
     "iopub.execute_input": "2025-04-19T12:49:10.458040Z",
     "iopub.status.busy": "2025-04-19T12:49:10.457340Z",
     "iopub.status.idle": "2025-04-19T12:49:10.473020Z",
     "shell.execute_reply": "2025-04-19T12:49:10.472342Z"
    },
    "papermill": {
     "duration": 0.024285,
     "end_time": "2025-04-19T12:49:10.474119",
     "exception": false,
     "start_time": "2025-04-19T12:49:10.449834",
     "status": "completed"
    },
    "tags": []
   },
   "outputs": [
    {
     "data": {
      "text/html": [
       "<div>\n",
       "<style scoped>\n",
       "    .dataframe tbody tr th:only-of-type {\n",
       "        vertical-align: middle;\n",
       "    }\n",
       "\n",
       "    .dataframe tbody tr th {\n",
       "        vertical-align: top;\n",
       "    }\n",
       "\n",
       "    .dataframe thead th {\n",
       "        text-align: right;\n",
       "    }\n",
       "</style>\n",
       "<table border=\"1\" class=\"dataframe\">\n",
       "  <thead>\n",
       "    <tr style=\"text-align: right;\">\n",
       "      <th></th>\n",
       "      <th>GalaxyID</th>\n",
       "      <th>class</th>\n",
       "      <th>pred</th>\n",
       "    </tr>\n",
       "  </thead>\n",
       "  <tbody>\n",
       "    <tr>\n",
       "      <th>0</th>\n",
       "      <td>215799</td>\n",
       "      <td>5</td>\n",
       "      <td>5</td>\n",
       "    </tr>\n",
       "    <tr>\n",
       "      <th>1</th>\n",
       "      <td>123375</td>\n",
       "      <td>1</td>\n",
       "      <td>1</td>\n",
       "    </tr>\n",
       "    <tr>\n",
       "      <th>2</th>\n",
       "      <td>140092</td>\n",
       "      <td>7</td>\n",
       "      <td>7</td>\n",
       "    </tr>\n",
       "    <tr>\n",
       "      <th>3</th>\n",
       "      <td>61557</td>\n",
       "      <td>1</td>\n",
       "      <td>1</td>\n",
       "    </tr>\n",
       "    <tr>\n",
       "      <th>4</th>\n",
       "      <td>114026</td>\n",
       "      <td>1</td>\n",
       "      <td>1</td>\n",
       "    </tr>\n",
       "  </tbody>\n",
       "</table>\n",
       "</div>"
      ],
      "text/plain": [
       "   GalaxyID  class  pred\n",
       "0    215799      5     5\n",
       "1    123375      1     1\n",
       "2    140092      7     7\n",
       "3     61557      1     1\n",
       "4    114026      1     1"
      ]
     },
     "execution_count": 15,
     "metadata": {},
     "output_type": "execute_result"
    }
   ],
   "source": [
    "predict_df.head()"
   ]
  },
  {
   "cell_type": "code",
   "execution_count": 16,
   "id": "581f59b3",
   "metadata": {
    "execution": {
     "iopub.execute_input": "2025-04-19T12:49:10.490318Z",
     "iopub.status.busy": "2025-04-19T12:49:10.489845Z",
     "iopub.status.idle": "2025-04-19T12:49:10.948009Z",
     "shell.execute_reply": "2025-04-19T12:49:10.947250Z"
    },
    "papermill": {
     "duration": 0.469119,
     "end_time": "2025-04-19T12:49:10.950898",
     "exception": false,
     "start_time": "2025-04-19T12:49:10.481779",
     "status": "completed"
    },
    "tags": []
   },
   "outputs": [
    {
     "name": "stdout",
     "output_type": "stream",
     "text": [
      "Class 0: accuracy = 0.9362 (Round Elliptical)\n",
      "Class 1: accuracy = 0.9096 (In-between Elliptical)\n",
      "Class 2: accuracy = 0.8536 (Cigar-shaped Elliptical)\n",
      "Class 3: accuracy = 0.9110 (Edge-on Spiral)\n",
      "Class 4: accuracy = 0.9054 (Barred Spiral)\n",
      "Class 5: accuracy = 0.9065 (Unbarred Spiral)\n",
      "Class 6: accuracy = 0.6470 (Irregular)\n",
      "Class 7: accuracy = 0.7677 (Merger)\n",
      "================\n",
      "Total Accuracy = 0.8984\n",
      "\n",
      "Recall = 0.8546\n",
      "\n",
      "F1 score = 0.8520\n",
      "\n"
     ]
    },
    {
     "data": {
      "image/png": "[encoded data removed]",
      "text/plain": [
       "<Figure size 1000x1000 with 1 Axes>"
      ]
     },
     "metadata": {},
     "output_type": "display_data"
    }
   ],
   "source": [
    "# galaxy classes\n",
    "gxy_labels = ['Round Elliptical',\n",
    "              'In-between Elliptical',\n",
    "              'Cigar-shaped Elliptical',\n",
    "              'Edge-on Spiral',\n",
    "              'Barred Spiral',\n",
    "              'Unbarred Spiral',\n",
    "              'Irregular',\n",
    "              'Merger']\n",
    "\n",
    "# confusion matrix\n",
    "cm = confusion_matrix(y_true, y_pred, normalize='true')\n",
    "cm_df = pd.DataFrame(cm, index=gxy_labels, columns=gxy_labels)\n",
    "\n",
    "# accuracy of each class\n",
    "for c in range(8):\n",
    "    print(\"Class {}: accuracy = {:.4f} ({})\".format(c, cm[c,c]/sum(cm[c,:]), gxy_labels[c]))\n",
    "print(\"================\")\n",
    "\n",
    "# accuracy\n",
    "acc = accuracy_score(y_true, y_pred)\n",
    "print(\"Total Accuracy = {:.4f}\\n\".format(acc))\n",
    "\n",
    "# recall\n",
    "recall = recall_score(y_true, y_pred, average='macro')\n",
    "print(\"Recall = {:.4f}\\n\".format(recall))\n",
    "\n",
    "# f1 score\n",
    "F1 = f1_score(y_true, y_pred, average='macro')\n",
    "print(\"F1 score = {:.4f}\\n\".format(F1))\n",
    "\n",
    "# plot confusion matrix\n",
    "sns.set(font_scale=1.6)\n",
    "fig = plt.figure(figsize=(10, 10))\n",
    "sns.heatmap(cm_df, annot=True, fmt=\".1%\", cmap=\"YlGnBu\", cbar=False, annot_kws={\"size\": 16})\n",
    "plt.show()"
   ]
  },
  {
   "cell_type": "code",
   "execution_count": 17,
   "id": "92462cab",
   "metadata": {
    "execution": {
     "iopub.execute_input": "2025-04-19T12:49:11.043615Z",
     "iopub.status.busy": "2025-04-19T12:49:11.043080Z",
     "iopub.status.idle": "2025-04-19T12:49:11.201980Z",
     "shell.execute_reply": "2025-04-19T12:49:11.201176Z"
    },
    "papermill": {
     "duration": 0.17089,
     "end_time": "2025-04-19T12:49:11.203425",
     "exception": false,
     "start_time": "2025-04-19T12:49:11.032535",
     "status": "completed"
    },
    "tags": []
   },
   "outputs": [
    {
     "name": "stdout",
     "output_type": "stream",
     "text": [
      "total 335944\r\n",
      "-rw-r--r-- 1 root root       869 Apr 19 12:38 gz2_hug_vit_010822B_history.csv\r\n",
      "-rw-r--r-- 1 root root    430189 Apr 19 12:49 gz2_hug_vit_010822B_predictions.csv\r\n",
      "-rw-r--r-- 1 root root 343301746 Apr 19 12:38 gz2_hug_vit_010822B.pth\r\n",
      "---------- 1 root root    264873 Apr 19 12:49 __notebook__.ipynb\r\n"
     ]
    }
   ],
   "source": [
    "!ls -l /kaggle/working\n"
   ]
  },
  {
   "cell_type": "code",
   "execution_count": null,
   "id": "6bda6626",
   "metadata": {
    "papermill": {
     "duration": 0.009198,
     "end_time": "2025-04-19T12:49:11.222647",
     "exception": false,
     "start_time": "2025-04-19T12:49:11.213449",
     "status": "completed"
    },
    "tags": []
   },
   "outputs": [],
   "source": []
  }
 ],
 "metadata": {
  "accelerator": "TPU",
  "colab": {
   "authorship_tag": "ABX9TyMDV76VQpi9NpoOpHPjTiSx",
   "gpuType": "V28",
   "mount_file_id": "17o765mkEvZ1jMjDHBMbMr3yshVtTOfVo",
   "provenance": []
  },
  "kaggle": {
   "accelerator": "gpu",
   "dataSources": [
    {
     "datasetId": 1120594,
     "sourceId": 1881640,
     "sourceType": "datasetVersion"
    },
    {
     "datasetId": 7132980,
     "sourceId": 11390174,
     "sourceType": "datasetVersion"
    }
   ],
   "isGpuEnabled": true,
   "isInternetEnabled": true,
   "language": "python",
   "sourceType": "notebook"
  },
  "kernelspec": {
   "display_name": "Python 3",
   "language": "python",
   "name": "python3"
  },
  "language_info": {
   "codemirror_mode": {
    "name": "ipython",
    "version": 3
   },
   "file_extension": ".py",
   "mimetype": "text/x-python",
   "name": "python",
   "nbconvert_exporter": "python",
   "pygments_lexer": "ipython3",
   "version": "3.11.11"
  },
  "papermill": {
   "default_parameters": {},
   "duration": 27451.152574,
   "end_time": "2025-04-19T12:49:14.826410",
   "environment_variables": {},
   "exception": null,
   "input_path": "__notebook__.ipynb",
   "output_path": "__notebook__.ipynb",
   "parameters": {},
   "start_time": "2025-04-19T05:11:43.673836",
   "version": "2.6.0"
  },
  "widgets": {
   "application/vnd.jupyter.widget-state+json": {
    "state": {
     "08520c8ba5694bcdbafcb1844800eb7a": {
      "model_module": "@jupyter-widgets/base",
      "model_module_version": "2.0.0",
      "model_name": "LayoutModel",
      "state": {
       "_model_module": "@jupyter-widgets/base",
       "_model_module_version": "2.0.0",
       "_model_name": "LayoutModel",
       "_view_count": null,
       "_view_module": "@jupyter-widgets/base",
       "_view_module_version": "2.0.0",
       "_view_name": "LayoutView",
       "align_content": null,
       "align_items": null,
       "align_self": null,
       "border_bottom": null,
       "border_left": null,
       "border_right": null,
       "border_top": null,
       "bottom": null,
       "display": null,
       "flex": null,
       "flex_flow": null,
       "grid_area": null,
       "grid_auto_columns": null,
       "grid_auto_flow": null,
       "grid_auto_rows": null,
       "grid_column": null,
       "grid_gap": null,
       "grid_row": null,
       "grid_template_areas": null,
       "grid_template_columns": null,
       "grid_template_rows": null,
       "height": null,
       "justify_content": null,
       "justify_items": null,
       "left": null,
       "margin": null,
       "max_height": null,
       "max_width": null,
       "min_height": null,
       "min_width": null,
       "object_fit": null,
       "object_position": null,
       "order": null,
       "overflow": null,
       "padding": null,
       "right": null,
       "top": null,
       "visibility": null,
       "width": null
      }
     },
     "1dbda442dba944c5bbea63912acc5047": {
      "model_module": "@jupyter-widgets/controls",
      "model_module_version": "2.0.0",
      "model_name": "HTMLModel",
      "state": {
       "_dom_classes": [],
       "_model_module": "@jupyter-widgets/controls",
       "_model_module_version": "2.0.0",
       "_model_name": "HTMLModel",
       "_view_count": null,
       "_view_module": "@jupyter-widgets/controls",
       "_view_module_version": "2.0.0",
       "_view_name": "HTMLView",
       "description": "",
       "description_allow_html": false,
       "layout": "IPY_MODEL_6ef9b9146abb4bfd95d409b3fb004155",
       "placeholder": "​",
       "style": "IPY_MODEL_872ba1a51e1d4bda8c8c36a8ef50d5aa",
       "tabbable": null,
       "tooltip": null,
       "value": " 346M/346M [00:01&lt;00:00, 370MB/s]"
      }
     },
     "3090cd9a8fec46ae8bfa996c88759d18": {
      "model_module": "@jupyter-widgets/controls",
      "model_module_version": "2.0.0",
      "model_name": "HTMLModel",
      "state": {
       "_dom_classes": [],
       "_model_module": "@jupyter-widgets/controls",
       "_model_module_version": "2.0.0",
       "_model_name": "HTMLModel",
       "_view_count": null,
       "_view_module": "@jupyter-widgets/controls",
       "_view_module_version": "2.0.0",
       "_view_name": "HTMLView",
       "description": "",
       "description_allow_html": false,
       "layout": "IPY_MODEL_fe124a5ec64946bfba3836fe70c6a362",
       "placeholder": "​",
       "style": "IPY_MODEL_78172242515743288d23bd3437c19354",
       "tabbable": null,
       "tooltip": null,
       "value": "preprocessor_config.json: 100%"
      }
     },
     "33e73b3d790144d98687143a81141413": {
      "model_module": "@jupyter-widgets/controls",
      "model_module_version": "2.0.0",
      "model_name": "HTMLModel",
      "state": {
       "_dom_classes": [],
       "_model_module": "@jupyter-widgets/controls",
       "_model_module_version": "2.0.0",
       "_model_name": "HTMLModel",
       "_view_count": null,
       "_view_module": "@jupyter-widgets/controls",
       "_view_module_version": "2.0.0",
       "_view_name": "HTMLView",
       "description": "",
       "description_allow_html": false,
       "layout": "IPY_MODEL_7a3485756971443ca19278f0b27a266f",
       "placeholder": "​",
       "style": "IPY_MODEL_c88bf20401af41e3b4093d53254b9eab",
       "tabbable": null,
       "tooltip": null,
       "value": " 69.7k/69.7k [00:00&lt;00:00, 4.58MB/s]"
      }
     },
     "4697a329904741edb4e179aecf02e670": {
      "model_module": "@jupyter-widgets/controls",
      "model_module_version": "2.0.0",
      "model_name": "HTMLModel",
      "state": {
       "_dom_classes": [],
       "_model_module": "@jupyter-widgets/controls",
       "_model_module_version": "2.0.0",
       "_model_name": "HTMLModel",
       "_view_count": null,
       "_view_module": "@jupyter-widgets/controls",
       "_view_module_version": "2.0.0",
       "_view_name": "HTMLView",
       "description": "",
       "description_allow_html": false,
       "layout": "IPY_MODEL_be8585af71a04e73af7d8f2b76616847",
       "placeholder": "​",
       "style": "IPY_MODEL_ed7d1364b5b041c5a205d4daa2fd9927",
       "tabbable": null,
       "tooltip": null,
       "value": "model.safetensors: 100%"
      }
     },
     "4e893f3f723b4c12803d39797410f548": {
      "model_module": "@jupyter-widgets/controls",
      "model_module_version": "2.0.0",
      "model_name": "HTMLModel",
      "state": {
       "_dom_classes": [],
       "_model_module": "@jupyter-widgets/controls",
       "_model_module_version": "2.0.0",
       "_model_name": "HTMLModel",
       "_view_count": null,
       "_view_module": "@jupyter-widgets/controls",
       "_view_module_version": "2.0.0",
       "_view_name": "HTMLView",
       "description": "",
       "description_allow_html": false,
       "layout": "IPY_MODEL_e5cf25dd4d154d9a83347ec04247b9a5",
       "placeholder": "​",
       "style": "IPY_MODEL_c11d3476c26b42ef8bbcaa234f71e2d1",
       "tabbable": null,
       "tooltip": null,
       "value": "config.json: 100%"
      }
     },
     "6ba3e83fdca14d1ba2584a0a9def0868": {
      "model_module": "@jupyter-widgets/controls",
      "model_module_version": "2.0.0",
      "model_name": "ProgressStyleModel",
      "state": {
       "_model_module": "@jupyter-widgets/controls",
       "_model_module_version": "2.0.0",
       "_model_name": "ProgressStyleModel",
       "_view_count": null,
       "_view_module": "@jupyter-widgets/base",
       "_view_module_version": "2.0.0",
       "_view_name": "StyleView",
       "bar_color": null,
       "description_width": ""
      }
     },
     "6bc39295e1704f6c8a23428eb880aec2": {
      "model_module": "@jupyter-widgets/base",
      "model_module_version": "2.0.0",
      "model_name": "LayoutModel",
      "state": {
       "_model_module": "@jupyter-widgets/base",
       "_model_module_version": "2.0.0",
       "_model_name": "LayoutModel",
       "_view_count": null,
       "_view_module": "@jupyter-widgets/base",
       "_view_module_version": "2.0.0",
       "_view_name": "LayoutView",
       "align_content": null,
       "align_items": null,
       "align_self": null,
       "border_bottom": null,
       "border_left": null,
       "border_right": null,
       "border_top": null,
       "bottom": null,
       "display": null,
       "flex": null,
       "flex_flow": null,
       "grid_area": null,
       "grid_auto_columns": null,
       "grid_auto_flow": null,
       "grid_auto_rows": null,
       "grid_column": null,
       "grid_gap": null,
       "grid_row": null,
       "grid_template_areas": null,
       "grid_template_columns": null,
       "grid_template_rows": null,
       "height": null,
       "justify_content": null,
       "justify_items": null,
       "left": null,
       "margin": null,
       "max_height": null,
       "max_width": null,
       "min_height": null,
       "min_width": null,
       "object_fit": null,
       "object_position": null,
       "order": null,
       "overflow": null,
       "padding": null,
       "right": null,
       "top": null,
       "visibility": null,
       "width": null
      }
     },
     "6ef9b9146abb4bfd95d409b3fb004155": {
      "model_module": "@jupyter-widgets/base",
      "model_module_version": "2.0.0",
      "model_name": "LayoutModel",
      "state": {
       "_model_module": "@jupyter-widgets/base",
       "_model_module_version": "2.0.0",
       "_model_name": "LayoutModel",
       "_view_count": null,
       "_view_module": "@jupyter-widgets/base",
       "_view_module_version": "2.0.0",
       "_view_name": "LayoutView",
       "align_content": null,
       "align_items": null,
       "align_self": null,
       "border_bottom": null,
       "border_left": null,
       "border_right": null,
       "border_top": null,
       "bottom": null,
       "display": null,
       "flex": null,
       "flex_flow": null,
       "grid_area": null,
       "grid_auto_columns": null,
       "grid_auto_flow": null,
       "grid_auto_rows": null,
       "grid_column": null,
       "grid_gap": null,
       "grid_row": null,
       "grid_template_areas": null,
       "grid_template_columns": null,
       "grid_template_rows": null,
       "height": null,
       "justify_content": null,
       "justify_items": null,
       "left": null,
       "margin": null,
       "max_height": null,
       "max_width": null,
       "min_height": null,
       "min_width": null,
       "object_fit": null,
       "object_position": null,
       "order": null,
       "overflow": null,
       "padding": null,
       "right": null,
       "top": null,
       "visibility": null,
       "width": null
      }
     },
     "74213509b53147ab934a77f62db7c7ee": {
      "model_module": "@jupyter-widgets/controls",
      "model_module_version": "2.0.0",
      "model_name": "FloatProgressModel",
      "state": {
       "_dom_classes": [],
       "_model_module": "@jupyter-widgets/controls",
       "_model_module_version": "2.0.0",
       "_model_name": "FloatProgressModel",
       "_view_count": null,
       "_view_module": "@jupyter-widgets/controls",
       "_view_module_version": "2.0.0",
       "_view_name": "ProgressView",
       "bar_style": "success",
       "description": "",
       "description_allow_html": false,
       "layout": "IPY_MODEL_dde696fb843e412e9438753b1628f011",
       "max": 160,
       "min": 0,
       "orientation": "horizontal",
       "style": "IPY_MODEL_6ba3e83fdca14d1ba2584a0a9def0868",
       "tabbable": null,
       "tooltip": null,
       "value": 160
      }
     },
     "768e925273ba4ed8817d94b884e68781": {
      "model_module": "@jupyter-widgets/controls",
      "model_module_version": "2.0.0",
      "model_name": "ProgressStyleModel",
      "state": {
       "_model_module": "@jupyter-widgets/controls",
       "_model_module_version": "2.0.0",
       "_model_name": "ProgressStyleModel",
       "_view_count": null,
       "_view_module": "@jupyter-widgets/base",
       "_view_module_version": "2.0.0",
       "_view_name": "StyleView",
       "bar_color": null,
       "description_width": ""
      }
     },
     "78172242515743288d23bd3437c19354": {
      "model_module": "@jupyter-widgets/controls",
      "model_module_version": "2.0.0",
      "model_name": "HTMLStyleModel",
      "state": {
       "_model_module": "@jupyter-widgets/controls",
       "_model_module_version": "2.0.0",
       "_model_name": "HTMLStyleModel",
       "_view_count": null,
       "_view_module": "@jupyter-widgets/base",
       "_view_module_version": "2.0.0",
       "_view_name": "StyleView",
       "background": null,
       "description_width": "",
       "font_size": null,
       "text_color": null
      }
     },
     "7a3485756971443ca19278f0b27a266f": {
      "model_module": "@jupyter-widgets/base",
      "model_module_version": "2.0.0",
      "model_name": "LayoutModel",
      "state": {
       "_model_module": "@jupyter-widgets/base",
       "_model_module_version": "2.0.0",
       "_model_name": "LayoutModel",
       "_view_count": null,
       "_view_module": "@jupyter-widgets/base",
       "_view_module_version": "2.0.0",
       "_view_name": "LayoutView",
       "align_content": null,
       "align_items": null,
       "align_self": null,
       "border_bottom": null,
       "border_left": null,
       "border_right": null,
       "border_top": null,
       "bottom": null,
       "display": null,
       "flex": null,
       "flex_flow": null,
       "grid_area": null,
       "grid_auto_columns": null,
       "grid_auto_flow": null,
       "grid_auto_rows": null,
       "grid_column": null,
       "grid_gap": null,
       "grid_row": null,
       "grid_template_areas": null,
       "grid_template_columns": null,
       "grid_template_rows": null,
       "height": null,
       "justify_content": null,
       "justify_items": null,
       "left": null,
       "margin": null,
       "max_height": null,
       "max_width": null,
       "min_height": null,
       "min_width": null,
       "object_fit": null,
       "object_position": null,
       "order": null,
       "overflow": null,
       "padding": null,
       "right": null,
       "top": null,
       "visibility": null,
       "width": null
      }
     },
     "872ba1a51e1d4bda8c8c36a8ef50d5aa": {
      "model_module": "@jupyter-widgets/controls",
      "model_module_version": "2.0.0",
      "model_name": "HTMLStyleModel",
      "state": {
       "_model_module": "@jupyter-widgets/controls",
       "_model_module_version": "2.0.0",
       "_model_name": "HTMLStyleModel",
       "_view_count": null,
       "_view_module": "@jupyter-widgets/base",
       "_view_module_version": "2.0.0",
       "_view_name": "StyleView",
       "background": null,
       "description_width": "",
       "font_size": null,
       "text_color": null
      }
     },
     "88726c5795c44acca689f402d360b456": {
      "model_module": "@jupyter-widgets/controls",
      "model_module_version": "2.0.0",
      "model_name": "HTMLModel",
      "state": {
       "_dom_classes": [],
       "_model_module": "@jupyter-widgets/controls",
       "_model_module_version": "2.0.0",
       "_model_name": "HTMLModel",
       "_view_count": null,
       "_view_module": "@jupyter-widgets/controls",
       "_view_module_version": "2.0.0",
       "_view_name": "HTMLView",
       "description": "",
       "description_allow_html": false,
       "layout": "IPY_MODEL_d1bf58af38f340d69465ca53907f1639",
       "placeholder": "​",
       "style": "IPY_MODEL_a5ad571ad77d4ac6a6feff7ceeecc84c",
       "tabbable": null,
       "tooltip": null,
       "value": " 160/160 [00:00&lt;00:00, 20.2kB/s]"
      }
     },
     "8c5ed18a1d314bd1b908ee5f293151d4": {
      "model_module": "@jupyter-widgets/controls",
      "model_module_version": "2.0.0",
      "model_name": "ProgressStyleModel",
      "state": {
       "_model_module": "@jupyter-widgets/controls",
       "_model_module_version": "2.0.0",
       "_model_name": "ProgressStyleModel",
       "_view_count": null,
       "_view_module": "@jupyter-widgets/base",
       "_view_module_version": "2.0.0",
       "_view_name": "StyleView",
       "bar_color": null,
       "description_width": ""
      }
     },
     "947357100be84410b66c54c107612840": {
      "model_module": "@jupyter-widgets/base",
      "model_module_version": "2.0.0",
      "model_name": "LayoutModel",
      "state": {
       "_model_module": "@jupyter-widgets/base",
       "_model_module_version": "2.0.0",
       "_model_name": "LayoutModel",
       "_view_count": null,
       "_view_module": "@jupyter-widgets/base",
       "_view_module_version": "2.0.0",
       "_view_name": "LayoutView",
       "align_content": null,
       "align_items": null,
       "align_self": null,
       "border_bottom": null,
       "border_left": null,
       "border_right": null,
       "border_top": null,
       "bottom": null,
       "display": null,
       "flex": null,
       "flex_flow": null,
       "grid_area": null,
       "grid_auto_columns": null,
       "grid_auto_flow": null,
       "grid_auto_rows": null,
       "grid_column": null,
       "grid_gap": null,
       "grid_row": null,
       "grid_template_areas": null,
       "grid_template_columns": null,
       "grid_template_rows": null,
       "height": null,
       "justify_content": null,
       "justify_items": null,
       "left": null,
       "margin": null,
       "max_height": null,
       "max_width": null,
       "min_height": null,
       "min_width": null,
       "object_fit": null,
       "object_position": null,
       "order": null,
       "overflow": null,
       "padding": null,
       "right": null,
       "top": null,
       "visibility": null,
       "width": null
      }
     },
     "995ed8f8a87743839b4be900b6f42847": {
      "model_module": "@jupyter-widgets/controls",
      "model_module_version": "2.0.0",
      "model_name": "HBoxModel",
      "state": {
       "_dom_classes": [],
       "_model_module": "@jupyter-widgets/controls",
       "_model_module_version": "2.0.0",
       "_model_name": "HBoxModel",
       "_view_count": null,
       "_view_module": "@jupyter-widgets/controls",
       "_view_module_version": "2.0.0",
       "_view_name": "HBoxView",
       "box_style": "",
       "children": [
        "IPY_MODEL_3090cd9a8fec46ae8bfa996c88759d18",
        "IPY_MODEL_74213509b53147ab934a77f62db7c7ee",
        "IPY_MODEL_88726c5795c44acca689f402d360b456"
       ],
       "layout": "IPY_MODEL_bd4f39cd42bf46ac9a5831d99c9d3867",
       "tabbable": null,
       "tooltip": null
      }
     },
     "a5ad571ad77d4ac6a6feff7ceeecc84c": {
      "model_module": "@jupyter-widgets/controls",
      "model_module_version": "2.0.0",
      "model_name": "HTMLStyleModel",
      "state": {
       "_model_module": "@jupyter-widgets/controls",
       "_model_module_version": "2.0.0",
       "_model_name": "HTMLStyleModel",
       "_view_count": null,
       "_view_module": "@jupyter-widgets/base",
       "_view_module_version": "2.0.0",
       "_view_name": "StyleView",
       "background": null,
       "description_width": "",
       "font_size": null,
       "text_color": null
      }
     },
     "bd4f39cd42bf46ac9a5831d99c9d3867": {
      "model_module": "@jupyter-widgets/base",
      "model_module_version": "2.0.0",
      "model_name": "LayoutModel",
      "state": {
       "_model_module": "@jupyter-widgets/base",
       "_model_module_version": "2.0.0",
       "_model_name": "LayoutModel",
       "_view_count": null,
       "_view_module": "@jupyter-widgets/base",
       "_view_module_version": "2.0.0",
       "_view_name": "LayoutView",
       "align_content": null,
       "align_items": null,
       "align_self": null,
       "border_bottom": null,
       "border_left": null,
       "border_right": null,
       "border_top": null,
       "bottom": null,
       "display": null,
       "flex": null,
       "flex_flow": null,
       "grid_area": null,
       "grid_auto_columns": null,
       "grid_auto_flow": null,
       "grid_auto_rows": null,
       "grid_column": null,
       "grid_gap": null,
       "grid_row": null,
       "grid_template_areas": null,
       "grid_template_columns": null,
       "grid_template_rows": null,
       "height": null,
       "justify_content": null,
       "justify_items": null,
       "left": null,
       "margin": null,
       "max_height": null,
       "max_width": null,
       "min_height": null,
       "min_width": null,
       "object_fit": null,
       "object_position": null,
       "order": null,
       "overflow": null,
       "padding": null,
       "right": null,
       "top": null,
       "visibility": null,
       "width": null
      }
     },
     "be8585af71a04e73af7d8f2b76616847": {
      "model_module": "@jupyter-widgets/base",
      "model_module_version": "2.0.0",
      "model_name": "LayoutModel",
      "state": {
       "_model_module": "@jupyter-widgets/base",
       "_model_module_version": "2.0.0",
       "_model_name": "LayoutModel",
       "_view_count": null,
       "_view_module": "@jupyter-widgets/base",
       "_view_module_version": "2.0.0",
       "_view_name": "LayoutView",
       "align_content": null,
       "align_items": null,
       "align_self": null,
       "border_bottom": null,
       "border_left": null,
       "border_right": null,
       "border_top": null,
       "bottom": null,
       "display": null,
       "flex": null,
       "flex_flow": null,
       "grid_area": null,
       "grid_auto_columns": null,
       "grid_auto_flow": null,
       "grid_auto_rows": null,
       "grid_column": null,
       "grid_gap": null,
       "grid_row": null,
       "grid_template_areas": null,
       "grid_template_columns": null,
       "grid_template_rows": null,
       "height": null,
       "justify_content": null,
       "justify_items": null,
       "left": null,
       "margin": null,
       "max_height": null,
       "max_width": null,
       "min_height": null,
       "min_width": null,
       "object_fit": null,
       "object_position": null,
       "order": null,
       "overflow": null,
       "padding": null,
       "right": null,
       "top": null,
       "visibility": null,
       "width": null
      }
     },
     "c0dc74c5cd844cad8c119ac8933e479c": {
      "model_module": "@jupyter-widgets/base",
      "model_module_version": "2.0.0",
      "model_name": "LayoutModel",
      "state": {
       "_model_module": "@jupyter-widgets/base",
       "_model_module_version": "2.0.0",
       "_model_name": "LayoutModel",
       "_view_count": null,
       "_view_module": "@jupyter-widgets/base",
       "_view_module_version": "2.0.0",
       "_view_name": "LayoutView",
       "align_content": null,
       "align_items": null,
       "align_self": null,
       "border_bottom": null,
       "border_left": null,
       "border_right": null,
       "border_top": null,
       "bottom": null,
       "display": null,
       "flex": null,
       "flex_flow": null,
       "grid_area": null,
       "grid_auto_columns": null,
       "grid_auto_flow": null,
       "grid_auto_rows": null,
       "grid_column": null,
       "grid_gap": null,
       "grid_row": null,
       "grid_template_areas": null,
       "grid_template_columns": null,
       "grid_template_rows": null,
       "height": null,
       "justify_content": null,
       "justify_items": null,
       "left": null,
       "margin": null,
       "max_height": null,
       "max_width": null,
       "min_height": null,
       "min_width": null,
       "object_fit": null,
       "object_position": null,
       "order": null,
       "overflow": null,
       "padding": null,
       "right": null,
       "top": null,
       "visibility": null,
       "width": null
      }
     },
     "c11d3476c26b42ef8bbcaa234f71e2d1": {
      "model_module": "@jupyter-widgets/controls",
      "model_module_version": "2.0.0",
      "model_name": "HTMLStyleModel",
      "state": {
       "_model_module": "@jupyter-widgets/controls",
       "_model_module_version": "2.0.0",
       "_model_name": "HTMLStyleModel",
       "_view_count": null,
       "_view_module": "@jupyter-widgets/base",
       "_view_module_version": "2.0.0",
       "_view_name": "StyleView",
       "background": null,
       "description_width": "",
       "font_size": null,
       "text_color": null
      }
     },
     "c295f893835d491aaf080da75cd24b4b": {
      "model_module": "@jupyter-widgets/controls",
      "model_module_version": "2.0.0",
      "model_name": "FloatProgressModel",
      "state": {
       "_dom_classes": [],
       "_model_module": "@jupyter-widgets/controls",
       "_model_module_version": "2.0.0",
       "_model_name": "FloatProgressModel",
       "_view_count": null,
       "_view_module": "@jupyter-widgets/controls",
       "_view_module_version": "2.0.0",
       "_view_name": "ProgressView",
       "bar_style": "success",
       "description": "",
       "description_allow_html": false,
       "layout": "IPY_MODEL_6bc39295e1704f6c8a23428eb880aec2",
       "max": 69665,
       "min": 0,
       "orientation": "horizontal",
       "style": "IPY_MODEL_8c5ed18a1d314bd1b908ee5f293151d4",
       "tabbable": null,
       "tooltip": null,
       "value": 69665
      }
     },
     "c88bf20401af41e3b4093d53254b9eab": {
      "model_module": "@jupyter-widgets/controls",
      "model_module_version": "2.0.0",
      "model_name": "HTMLStyleModel",
      "state": {
       "_model_module": "@jupyter-widgets/controls",
       "_model_module_version": "2.0.0",
       "_model_name": "HTMLStyleModel",
       "_view_count": null,
       "_view_module": "@jupyter-widgets/base",
       "_view_module_version": "2.0.0",
       "_view_name": "StyleView",
       "background": null,
       "description_width": "",
       "font_size": null,
       "text_color": null
      }
     },
     "d1bf58af38f340d69465ca53907f1639": {
      "model_module": "@jupyter-widgets/base",
      "model_module_version": "2.0.0",
      "model_name": "LayoutModel",
      "state": {
       "_model_module": "@jupyter-widgets/base",
       "_model_module_version": "2.0.0",
       "_model_name": "LayoutModel",
       "_view_count": null,
       "_view_module": "@jupyter-widgets/base",
       "_view_module_version": "2.0.0",
       "_view_name": "LayoutView",
       "align_content": null,
       "align_items": null,
       "align_self": null,
       "border_bottom": null,
       "border_left": null,
       "border_right": null,
       "border_top": null,
       "bottom": null,
       "display": null,
       "flex": null,
       "flex_flow": null,
       "grid_area": null,
       "grid_auto_columns": null,
       "grid_auto_flow": null,
       "grid_auto_rows": null,
       "grid_column": null,
       "grid_gap": null,
       "grid_row": null,
       "grid_template_areas": null,
       "grid_template_columns": null,
       "grid_template_rows": null,
       "height": null,
       "justify_content": null,
       "justify_items": null,
       "left": null,
       "margin": null,
       "max_height": null,
       "max_width": null,
       "min_height": null,
       "min_width": null,
       "object_fit": null,
       "object_position": null,
       "order": null,
       "overflow": null,
       "padding": null,
       "right": null,
       "top": null,
       "visibility": null,
       "width": null
      }
     },
     "d4eaf764c24b4b86a065e4d71bb42045": {
      "model_module": "@jupyter-widgets/controls",
      "model_module_version": "2.0.0",
      "model_name": "FloatProgressModel",
      "state": {
       "_dom_classes": [],
       "_model_module": "@jupyter-widgets/controls",
       "_model_module_version": "2.0.0",
       "_model_name": "FloatProgressModel",
       "_view_count": null,
       "_view_module": "@jupyter-widgets/controls",
       "_view_module_version": "2.0.0",
       "_view_name": "ProgressView",
       "bar_style": "success",
       "description": "",
       "description_allow_html": false,
       "layout": "IPY_MODEL_c0dc74c5cd844cad8c119ac8933e479c",
       "max": 346293852,
       "min": 0,
       "orientation": "horizontal",
       "style": "IPY_MODEL_768e925273ba4ed8817d94b884e68781",
       "tabbable": null,
       "tooltip": null,
       "value": 346293852
      }
     },
     "dde696fb843e412e9438753b1628f011": {
      "model_module": "@jupyter-widgets/base",
      "model_module_version": "2.0.0",
      "model_name": "LayoutModel",
      "state": {
       "_model_module": "@jupyter-widgets/base",
       "_model_module_version": "2.0.0",
       "_model_name": "LayoutModel",
       "_view_count": null,
       "_view_module": "@jupyter-widgets/base",
       "_view_module_version": "2.0.0",
       "_view_name": "LayoutView",
       "align_content": null,
       "align_items": null,
       "align_self": null,
       "border_bottom": null,
       "border_left": null,
       "border_right": null,
       "border_top": null,
       "bottom": null,
       "display": null,
       "flex": null,
       "flex_flow": null,
       "grid_area": null,
       "grid_auto_columns": null,
       "grid_auto_flow": null,
       "grid_auto_rows": null,
       "grid_column": null,
       "grid_gap": null,
       "grid_row": null,
       "grid_template_areas": null,
       "grid_template_columns": null,
       "grid_template_rows": null,
       "height": null,
       "justify_content": null,
       "justify_items": null,
       "left": null,
       "margin": null,
       "max_height": null,
       "max_width": null,
       "min_height": null,
       "min_width": null,
       "object_fit": null,
       "object_position": null,
       "order": null,
       "overflow": null,
       "padding": null,
       "right": null,
       "top": null,
       "visibility": null,
       "width": null
      }
     },
     "e49998d817b3412ca3ff3d025cc5b1d9": {
      "model_module": "@jupyter-widgets/controls",
      "model_module_version": "2.0.0",
      "model_name": "HBoxModel",
      "state": {
       "_dom_classes": [],
       "_model_module": "@jupyter-widgets/controls",
       "_model_module_version": "2.0.0",
       "_model_name": "HBoxModel",
       "_view_count": null,
       "_view_module": "@jupyter-widgets/controls",
       "_view_module_version": "2.0.0",
       "_view_name": "HBoxView",
       "box_style": "",
       "children": [
        "IPY_MODEL_4697a329904741edb4e179aecf02e670",
        "IPY_MODEL_d4eaf764c24b4b86a065e4d71bb42045",
        "IPY_MODEL_1dbda442dba944c5bbea63912acc5047"
       ],
       "layout": "IPY_MODEL_947357100be84410b66c54c107612840",
       "tabbable": null,
       "tooltip": null
      }
     },
     "e5cf25dd4d154d9a83347ec04247b9a5": {
      "model_module": "@jupyter-widgets/base",
      "model_module_version": "2.0.0",
      "model_name": "LayoutModel",
      "state": {
       "_model_module": "@jupyter-widgets/base",
       "_model_module_version": "2.0.0",
       "_model_name": "LayoutModel",
       "_view_count": null,
       "_view_module": "@jupyter-widgets/base",
       "_view_module_version": "2.0.0",
       "_view_name": "LayoutView",
       "align_content": null,
       "align_items": null,
       "align_self": null,
       "border_bottom": null,
       "border_left": null,
       "border_right": null,
       "border_top": null,
       "bottom": null,
       "display": null,
       "flex": null,
       "flex_flow": null,
       "grid_area": null,
       "grid_auto_columns": null,
       "grid_auto_flow": null,
       "grid_auto_rows": null,
       "grid_column": null,
       "grid_gap": null,
       "grid_row": null,
       "grid_template_areas": null,
       "grid_template_columns": null,
       "grid_template_rows": null,
       "height": null,
       "justify_content": null,
       "justify_items": null,
       "left": null,
       "margin": null,
       "max_height": null,
       "max_width": null,
       "min_height": null,
       "min_width": null,
       "object_fit": null,
       "object_position": null,
       "order": null,
       "overflow": null,
       "padding": null,
       "right": null,
       "top": null,
       "visibility": null,
       "width": null
      }
     },
     "ed7d1364b5b041c5a205d4daa2fd9927": {
      "model_module": "@jupyter-widgets/controls",
      "model_module_version": "2.0.0",
      "model_name": "HTMLStyleModel",
      "state": {
       "_model_module": "@jupyter-widgets/controls",
       "_model_module_version": "2.0.0",
       "_model_name": "HTMLStyleModel",
       "_view_count": null,
       "_view_module": "@jupyter-widgets/base",
       "_view_module_version": "2.0.0",
       "_view_name": "StyleView",
       "background": null,
       "description_width": "",
       "font_size": null,
       "text_color": null
      }
     },
     "f85313dc5c3b4d2cbb80c8ef51683329": {
      "model_module": "@jupyter-widgets/controls",
      "model_module_version": "2.0.0",
      "model_name": "HBoxModel",
      "state": {
       "_dom_classes": [],
       "_model_module": "@jupyter-widgets/controls",
       "_model_module_version": "2.0.0",
       "_model_name": "HBoxModel",
       "_view_count": null,
       "_view_module": "@jupyter-widgets/controls",
       "_view_module_version": "2.0.0",
       "_view_name": "HBoxView",
       "box_style": "",
       "children": [
        "IPY_MODEL_4e893f3f723b4c12803d39797410f548",
        "IPY_MODEL_c295f893835d491aaf080da75cd24b4b",
        "IPY_MODEL_33e73b3d790144d98687143a81141413"
       ],
       "layout": "IPY_MODEL_08520c8ba5694bcdbafcb1844800eb7a",
       "tabbable": null,
       "tooltip": null
      }
     },
     "fe124a5ec64946bfba3836fe70c6a362": {
      "model_module": "@jupyter-widgets/base",
      "model_module_version": "2.0.0",
      "model_name": "LayoutModel",
      "state": {
       "_model_module": "@jupyter-widgets/base",
       "_model_module_version": "2.0.0",
       "_model_name": "LayoutModel",
       "_view_count": null,
       "_view_module": "@jupyter-widgets/base",
       "_view_module_version": "2.0.0",
       "_view_name": "LayoutView",
       "align_content": null,
       "align_items": null,
       "align_self": null,
       "border_bottom": null,
       "border_left": null,
       "border_right": null,
       "border_top": null,
       "bottom": null,
       "display": null,
       "flex": null,
       "flex_flow": null,
       "grid_area": null,
       "grid_auto_columns": null,
       "grid_auto_flow": null,
       "grid_auto_rows": null,
       "grid_column": null,
       "grid_gap": null,
       "grid_row": null,
       "grid_template_areas": null,
       "grid_template_columns": null,
       "grid_template_rows": null,
       "height": null,
       "justify_content": null,
       "justify_items": null,
       "left": null,
       "margin": null,
       "max_height": null,
       "max_width": null,
       "min_height": null,
       "min_width": null,
       "object_fit": null,
       "object_position": null,
       "order": null,
       "overflow": null,
       "padding": null,
       "right": null,
       "top": null,
       "visibility": null,
       "width": null
      }
     }
    },
    "version_major": 2,
    "version_minor": 0
   }
  }
 },
 "nbformat": 4,
 "nbformat_minor": 5
}
